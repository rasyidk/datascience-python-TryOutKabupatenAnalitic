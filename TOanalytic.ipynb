{
 "cells": [
  {
   "cell_type": "code",
   "execution_count": 177,
   "metadata": {},
   "outputs": [],
   "source": [
    "import pandas as pd\n",
    "import numpy as np\n",
    "import matplotlib.pyplot as plt\n",
    "\n",
    "from plotnine import *\n",
    "from plotnine.data import mpg\n",
    "%matplotlib inline"
   ]
  },
  {
   "cell_type": "code",
   "execution_count": 3,
   "metadata": {},
   "outputs": [],
   "source": [
    "df =  pd.read_csv('TOdatasetSTMBY.csv')"
   ]
  },
  {
   "cell_type": "code",
   "execution_count": 4,
   "metadata": {},
   "outputs": [
    {
     "data": {
      "text/html": [
       "<div>\n",
       "<style scoped>\n",
       "    .dataframe tbody tr th:only-of-type {\n",
       "        vertical-align: middle;\n",
       "    }\n",
       "\n",
       "    .dataframe tbody tr th {\n",
       "        vertical-align: top;\n",
       "    }\n",
       "\n",
       "    .dataframe thead th {\n",
       "        text-align: right;\n",
       "    }\n",
       "</style>\n",
       "<table border=\"1\" class=\"dataframe\">\n",
       "  <thead>\n",
       "    <tr style=\"text-align: right;\">\n",
       "      <th></th>\n",
       "      <th>No.</th>\n",
       "      <th>Nomor Peserta</th>\n",
       "      <th>Nama Peserta</th>\n",
       "      <th>Bhs Ind</th>\n",
       "      <th>Mtk</th>\n",
       "      <th>Bhs Ing</th>\n",
       "      <th>Kej.</th>\n",
       "      <th>Jumlah</th>\n",
       "      <th>Rata</th>\n",
       "      <th>Kelas</th>\n",
       "      <th>Sekolah</th>\n",
       "      <th>KAB</th>\n",
       "    </tr>\n",
       "  </thead>\n",
       "  <tbody>\n",
       "    <tr>\n",
       "      <td>0</td>\n",
       "      <td>1</td>\n",
       "      <td>1-20401315001</td>\n",
       "      <td>ABDUL AZIZ</td>\n",
       "      <td>76.0</td>\n",
       "      <td>80.0</td>\n",
       "      <td>76</td>\n",
       "      <td>NaN</td>\n",
       "      <td>232.0</td>\n",
       "      <td>77.33</td>\n",
       "      <td>1</td>\n",
       "      <td>66</td>\n",
       "      <td>81</td>\n",
       "    </tr>\n",
       "    <tr>\n",
       "      <td>1</td>\n",
       "      <td>2</td>\n",
       "      <td>1-20401315002</td>\n",
       "      <td>AFIF RUNDY MUTTAQIN</td>\n",
       "      <td>72.0</td>\n",
       "      <td>30.0</td>\n",
       "      <td>58</td>\n",
       "      <td>NaN</td>\n",
       "      <td>160.0</td>\n",
       "      <td>53.33</td>\n",
       "      <td>24</td>\n",
       "      <td>559</td>\n",
       "      <td>1415</td>\n",
       "    </tr>\n",
       "    <tr>\n",
       "      <td>2</td>\n",
       "      <td>3</td>\n",
       "      <td>1-20401315003</td>\n",
       "      <td>AHMAD MAULANA RIZKY MUSTOFA</td>\n",
       "      <td>62.0</td>\n",
       "      <td>30.0</td>\n",
       "      <td>62</td>\n",
       "      <td>NaN</td>\n",
       "      <td>154.0</td>\n",
       "      <td>51.33</td>\n",
       "      <td>26</td>\n",
       "      <td>570</td>\n",
       "      <td>1684</td>\n",
       "    </tr>\n",
       "    <tr>\n",
       "      <td>3</td>\n",
       "      <td>4</td>\n",
       "      <td>1-20401315004</td>\n",
       "      <td>ALFAREL NOOR MIARARIZKI SUTARMAN</td>\n",
       "      <td>70.0</td>\n",
       "      <td>62.5</td>\n",
       "      <td>80</td>\n",
       "      <td>NaN</td>\n",
       "      <td>212.5</td>\n",
       "      <td>70.83</td>\n",
       "      <td>5</td>\n",
       "      <td>212</td>\n",
       "      <td>289</td>\n",
       "    </tr>\n",
       "    <tr>\n",
       "      <td>4</td>\n",
       "      <td>5</td>\n",
       "      <td>1-20401315005</td>\n",
       "      <td>ALFINKA ICHSANDYA</td>\n",
       "      <td>72.0</td>\n",
       "      <td>60.0</td>\n",
       "      <td>74</td>\n",
       "      <td>NaN</td>\n",
       "      <td>206.0</td>\n",
       "      <td>68.67</td>\n",
       "      <td>7</td>\n",
       "      <td>272</td>\n",
       "      <td>384</td>\n",
       "    </tr>\n",
       "    <tr>\n",
       "      <td>...</td>\n",
       "      <td>...</td>\n",
       "      <td>...</td>\n",
       "      <td>...</td>\n",
       "      <td>...</td>\n",
       "      <td>...</td>\n",
       "      <td>...</td>\n",
       "      <td>...</td>\n",
       "      <td>...</td>\n",
       "      <td>...</td>\n",
       "      <td>...</td>\n",
       "      <td>...</td>\n",
       "      <td>...</td>\n",
       "    </tr>\n",
       "    <tr>\n",
       "      <td>590</td>\n",
       "      <td>591</td>\n",
       "      <td>1-20401315591</td>\n",
       "      <td>SETO AJI RINENGKUH</td>\n",
       "      <td>62.0</td>\n",
       "      <td>40.0</td>\n",
       "      <td>68</td>\n",
       "      <td>NaN</td>\n",
       "      <td>170.0</td>\n",
       "      <td>56.67</td>\n",
       "      <td>29</td>\n",
       "      <td>520</td>\n",
       "      <td>1090</td>\n",
       "    </tr>\n",
       "    <tr>\n",
       "      <td>591</td>\n",
       "      <td>592</td>\n",
       "      <td>1-20401315592</td>\n",
       "      <td>SHANA NOOR IZZA PRIYANDARA</td>\n",
       "      <td>80.0</td>\n",
       "      <td>77.5</td>\n",
       "      <td>86</td>\n",
       "      <td>NaN</td>\n",
       "      <td>243.5</td>\n",
       "      <td>81.17</td>\n",
       "      <td>2</td>\n",
       "      <td>17</td>\n",
       "      <td>23</td>\n",
       "    </tr>\n",
       "    <tr>\n",
       "      <td>592</td>\n",
       "      <td>593</td>\n",
       "      <td>1-20401315593</td>\n",
       "      <td>SYAFANA MARDITYA</td>\n",
       "      <td>60.0</td>\n",
       "      <td>52.5</td>\n",
       "      <td>78</td>\n",
       "      <td>NaN</td>\n",
       "      <td>190.5</td>\n",
       "      <td>63.50</td>\n",
       "      <td>18</td>\n",
       "      <td>400</td>\n",
       "      <td>619</td>\n",
       "    </tr>\n",
       "    <tr>\n",
       "      <td>593</td>\n",
       "      <td>594</td>\n",
       "      <td>1-20401315594</td>\n",
       "      <td>WAHYU DWI SAPUTRA</td>\n",
       "      <td>68.0</td>\n",
       "      <td>77.5</td>\n",
       "      <td>62</td>\n",
       "      <td>NaN</td>\n",
       "      <td>207.5</td>\n",
       "      <td>69.17</td>\n",
       "      <td>13</td>\n",
       "      <td>255</td>\n",
       "      <td>358</td>\n",
       "    </tr>\n",
       "    <tr>\n",
       "      <td>594</td>\n",
       "      <td>595</td>\n",
       "      <td>1-20401315595</td>\n",
       "      <td>YUSUF DWIRINANTO</td>\n",
       "      <td>54.0</td>\n",
       "      <td>17.5</td>\n",
       "      <td>76</td>\n",
       "      <td>NaN</td>\n",
       "      <td>147.5</td>\n",
       "      <td>49.17</td>\n",
       "      <td>31</td>\n",
       "      <td>577</td>\n",
       "      <td>1981</td>\n",
       "    </tr>\n",
       "  </tbody>\n",
       "</table>\n",
       "<p>595 rows × 12 columns</p>\n",
       "</div>"
      ],
      "text/plain": [
       "     No.  Nomor Peserta                      Nama Peserta  Bhs Ind   Mtk  \\\n",
       "0      1  1-20401315001                        ABDUL AZIZ     76.0  80.0   \n",
       "1      2  1-20401315002               AFIF RUNDY MUTTAQIN     72.0  30.0   \n",
       "2      3  1-20401315003       AHMAD MAULANA RIZKY MUSTOFA     62.0  30.0   \n",
       "3      4  1-20401315004  ALFAREL NOOR MIARARIZKI SUTARMAN     70.0  62.5   \n",
       "4      5  1-20401315005                 ALFINKA ICHSANDYA     72.0  60.0   \n",
       "..   ...            ...                               ...      ...   ...   \n",
       "590  591  1-20401315591                SETO AJI RINENGKUH     62.0  40.0   \n",
       "591  592  1-20401315592        SHANA NOOR IZZA PRIYANDARA     80.0  77.5   \n",
       "592  593  1-20401315593                  SYAFANA MARDITYA     60.0  52.5   \n",
       "593  594  1-20401315594                 WAHYU DWI SAPUTRA     68.0  77.5   \n",
       "594  595  1-20401315595                  YUSUF DWIRINANTO     54.0  17.5   \n",
       "\n",
       "     Bhs Ing  Kej.  Jumlah   Rata  Kelas  Sekolah   KAB  \n",
       "0         76   NaN   232.0  77.33      1       66    81  \n",
       "1         58   NaN   160.0  53.33     24      559  1415  \n",
       "2         62   NaN   154.0  51.33     26      570  1684  \n",
       "3         80   NaN   212.5  70.83      5      212   289  \n",
       "4         74   NaN   206.0  68.67      7      272   384  \n",
       "..       ...   ...     ...    ...    ...      ...   ...  \n",
       "590       68   NaN   170.0  56.67     29      520  1090  \n",
       "591       86   NaN   243.5  81.17      2       17    23  \n",
       "592       78   NaN   190.5  63.50     18      400   619  \n",
       "593       62   NaN   207.5  69.17     13      255   358  \n",
       "594       76   NaN   147.5  49.17     31      577  1981  \n",
       "\n",
       "[595 rows x 12 columns]"
      ]
     },
     "execution_count": 4,
     "metadata": {},
     "output_type": "execute_result"
    }
   ],
   "source": [
    "df"
   ]
  },
  {
   "cell_type": "code",
   "execution_count": 5,
   "metadata": {},
   "outputs": [],
   "source": [
    "df = df.drop(['Kej.'], axis = 1)"
   ]
  },
  {
   "cell_type": "code",
   "execution_count": 6,
   "metadata": {},
   "outputs": [],
   "source": [
    "def kelas(a,b):\n",
    "    dc = pd.DataFrame(df[a:b])\n",
    "    return dc"
   ]
  },
  {
   "cell_type": "code",
   "execution_count": 76,
   "metadata": {},
   "outputs": [],
   "source": [
    "kgsp = kelas(0,31)\n",
    "dpib = kelas(32,62)\n",
    "toia = kelas(62,94)\n",
    "toib = kelas(94,126)\n",
    "tflma = kelas(126,155)\n",
    "tflmb = kelas(155,186)\n",
    "kia = kelas(186,218)\n",
    "kib = kelas(218,248)\n",
    "kaa = kelas(248,280)\n",
    "kab = kelas(280,312)\n",
    "tbo = kelas(312,341)\n",
    "tmpo = kelas(341,374)\n",
    "tav = kelas(374,406)\n",
    "tedk = kelas(406,438)\n",
    "tpmp = kelas(438,468)\n",
    "gpa = kelas(468,499)\n",
    "gpb = kelas(499,531)\n",
    "tkj = kelas(531,563)\n",
    "sija = kelas(563,595)"
   ]
  },
  {
   "cell_type": "code",
   "execution_count": 86,
   "metadata": {},
   "outputs": [],
   "source": [
    "frames1 = [kgsp, toib,kia,kaa,tedk,tmpo,gpb]\n",
    "frames2 = [dpib, tflma,kib,kab,tav,tpmp,tkj]\n",
    "frames3 = [toia,tflmb,tbo,gpa,sija]\n",
    "\n",
    "kelompok1 = pd.concat(frames1)\n",
    "kelompok2 = pd.concat(frames2)\n",
    "kelompok3 = pd.concat(frames3)"
   ]
  },
  {
   "cell_type": "code",
   "execution_count": 117,
   "metadata": {},
   "outputs": [
    {
     "name": "stdout",
     "output_type": "stream",
     "text": [
      "69.00892857142857 69.0 67.5\n",
      "63.30952380952381 57.725806451612904 65.83705357142857\n",
      "68.92903225806451 70.04464285714286 71.70232558139534\n"
     ]
    }
   ],
   "source": [
    "Mind1 = kelompok1['Bhs Ind'].mean()\n",
    "Mind2 = kelompok2['Bhs Ind'].mean()\n",
    "Mind3 = kelompok3['Bhs Ind'].mean()\n",
    "\n",
    "Mmtk1 = kelompok2['Mtk'].mean()\n",
    "Mmtk2 = kelompok3['Mtk'].mean()\n",
    "Mmtk3 = kelompok1['Mtk'].mean()\n",
    "\n",
    "Ming1 = kelompok3['Bhs Ing'].mean()\n",
    "Ming2 = kelompok1['Bhs Ing'].mean()\n",
    "Ming3 = kelompok2['Bhs Ing'].mean()\n",
    "\n",
    "print(Mind1 , Mind2, Mind3)\n",
    "print(Mmtk1 , Mmtk2, Mmtk3)\n",
    "print(Ming1 , Ming2, Ming3)\n"
   ]
  },
  {
   "cell_type": "code",
   "execution_count": 134,
   "metadata": {},
   "outputs": [],
   "source": [
    "meanInd = pd.DataFrame({'Sesi 1': Mind1, 'Sesi 2': Mind2, 'Sesi 3' : Mind3}, index=['Bahasa Ind'])\n",
    "meanMtk = pd.DataFrame({'Sesi 1': Mmtk1, 'Sesi 2': Mmtk2, 'Sesi 3' : Mmtk3}, index=['Mtk'])\n",
    "meanIng = pd.DataFrame({'Sesi 1': Ming1, 'Sesi 2': Ming2, 'Sesi 3' : Ming3}, index=['Bahasa Ing'])"
   ]
  },
  {
   "cell_type": "code",
   "execution_count": 163,
   "metadata": {},
   "outputs": [],
   "source": [
    "df_indo = pd.DataFrame({\"Nilai\":[Mind1,Mind2,Mind3], \"Sesi\":['Sesi 1','Sesi 2','Sesi 3']},  index=['Sesi 1','Sesi 2','Sesi 3'])\n",
    "df_mtk = pd.DataFrame({\"Nilai\":[Mmtk1,Mmtk2,Mmtk3], \"Sesi\":['Sesi 1','Sesi 2','Sesi 3']}, index=['Sesi 1','Sesi 2','Sesi 3'])\n",
    "df_inggris = pd.DataFrame({\"Nilai\":[Ming1,Ming2,Ming3], \"Sesi\":['Sesi 1','Sesi 2','Sesi 3']}, index=['Sesi 1','Sesi 2','Sesi 3'])"
   ]
  },
  {
   "cell_type": "code",
   "execution_count": 166,
   "metadata": {},
   "outputs": [
    {
     "data": {
      "image/png": "[encoded data removed]",
      "text/plain": [
       "<Figure size 432x288 with 1 Axes>"
      ]
     },
     "metadata": {
      "needs_background": "light"
     },
     "output_type": "display_data"
    }
   ],
   "source": [
    "y_pos = np.arange(len(df_indo.Sesi))\n",
    " \n",
    "# Create bars\n",
    "plt.bar(y_pos, df_indo.Nilai)\n",
    " \n",
    "# Create names on the x-axis\n",
    "plt.xticks(y_pos, df_indo.Sesi)\n",
    " \n",
    "# Show graphic\n",
    "plt.show()"
   ]
  },
  {
   "cell_type": "code",
   "execution_count": 168,
   "metadata": {},
   "outputs": [
    {
     "data": {
      "image/png": "[encoded data removed]",
      "text/plain": [
       "<Figure size 432x288 with 1 Axes>"
      ]
     },
     "metadata": {
      "needs_background": "light"
     },
     "output_type": "display_data"
    }
   ],
   "source": [
    "y_pos = np.arange(len(df_mtk.Sesi))\n",
    " \n",
    "# Create bars\n",
    "plt.bar(y_pos, df_mtk.Nilai)\n",
    " \n",
    "# Create names on the x-axis\n",
    "plt.xticks(y_pos, df_mtk.Sesi)\n",
    " \n",
    "# Show graphic\n",
    "plt.show()"
   ]
  },
  {
   "cell_type": "code",
   "execution_count": 217,
   "metadata": {
    "scrolled": false
   },
   "outputs": [
    {
     "data": {
      "image/png": "[encoded data removed]",
      "text/plain": [
       "<Figure size 432x288 with 1 Axes>"
      ]
     },
     "metadata": {
      "needs_background": "light"
     },
     "output_type": "display_data"
    }
   ],
   "source": [
    "y_pos = np.arange(len(df_inggris.Sesi))\n",
    " \n",
    "# Create bars\n",
    "plt.bar(y_pos, df_inggris.Nilai)\n",
    " \n",
    "# Create names on the x-axis\n",
    "plt.xticks(y_pos, df_inggris.Sesi)\n",
    " \n",
    "# Show graphic\n",
    "plt.show()"
   ]
  },
  {
   "cell_type": "code",
   "execution_count": 243,
   "metadata": {},
   "outputs": [],
   "source": [
    "def plotsesi(dfv):\n",
    "    y_pos = np.arange(len(dfv.Sesi))\n",
    "    plt.bar(y_pos, dfv.Nilai)\n",
    "    plt.xticks(y_pos, dfv.Sesi)\n",
    "    val = plt.show()\n",
    "    \n",
    "    return val"
   ]
  },
  {
   "cell_type": "code",
   "execution_count": 244,
   "metadata": {},
   "outputs": [
    {
     "data": {
      "image/png": "[encoded data removed]",
      "text/plain": [
       "<Figure size 432x288 with 1 Axes>"
      ]
     },
     "metadata": {
      "needs_background": "light"
     },
     "output_type": "display_data"
    }
   ],
   "source": [
    "plotsesi(df_indo)"
   ]
  },
  {
   "cell_type": "code",
   "execution_count": 239,
   "metadata": {},
   "outputs": [],
   "source": [
    "def makeplot(dfc):\n",
    "    m = ggplot(dfc, aes(y ='Mtk', x='Kelas')) + geom_point()\n",
    "    return m"
   ]
  },
  {
   "cell_type": "code",
   "execution_count": 242,
   "metadata": {},
   "outputs": [
    {
     "name": "stderr",
     "output_type": "stream",
     "text": [
      "C:\\ProgramData\\Anaconda3\\lib\\site-packages\\plotnine\\layer.py:452: PlotnineWarning: geom_point : Removed 2 rows containing missing values.\n",
      "  self.data = self.geom.handle_na(self.data)\n"
     ]
    },
    {
     "data": {
      "image/png": "[encoded data removed]",
      "text/plain": [
       "<Figure size 640x480 with 1 Axes>"
      ]
     },
     "metadata": {},
     "output_type": "display_data"
    },
    {
     "data": {
      "text/plain": [
       "<ggplot: (-9223371906224511584)>"
      ]
     },
     "execution_count": 242,
     "metadata": {},
     "output_type": "execute_result"
    }
   ],
   "source": [
    "makeplot(tflma)"
   ]
  }
 ],
 "metadata": {
  "kernelspec": {
   "display_name": "Python 3",
   "language": "python",
   "name": "python3"
  },
  "language_info": {
   "codemirror_mode": {
    "name": "ipython",
    "version": 3
   },
   "file_extension": ".py",
   "mimetype": "text/x-python",
   "name": "python",
   "nbconvert_exporter": "python",
   "pygments_lexer": "ipython3",
   "version": "3.7.4"
  }
 },
 "nbformat": 4,
 "nbformat_minor": 2
}
